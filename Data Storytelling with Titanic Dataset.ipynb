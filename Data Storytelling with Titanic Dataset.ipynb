{
 "cells": [
  {
   "cell_type": "markdown",
   "metadata": {},
   "source": [
    "# Data Storytelling with Titanic Dataset #\n",
    "\n",
    "For those outside of the data science community, the concept of predicting survivors of the <i>Titanic</i> shipwreck might sound cool, if not an on-ramp into understanding how data science works with a famous situation. By contrast, this dataset gets a bad rap within the data science community, perhaps because it is so often utilized as a \"first project\". As a classical musician by training, I'm accustomed to revisiting data that thousands have examined before, so let's dive in!"
   ]
  },
  {
   "cell_type": "code",
   "execution_count": 1,
   "metadata": {
    "_cell_guid": "b1076dfc-b9ad-4769-8c92-a6c4dae69d19",
    "_uuid": "8f2839f25d086af736a60e9eeb907d3b93b6e0e5"
   },
   "outputs": [],
   "source": [
    "#Import packages\n",
    "import numpy as np # linear algebra\n",
    "import pandas as pd # data processing, CSV file I/O (e.g. pd.read_csv)\n",
    "import os\n",
    "import matplotlib.pyplot as plt\n",
    "import seaborn as sns\n",
    "sns.set()"
   ]
  },
  {
   "cell_type": "code",
   "execution_count": 2,
   "metadata": {},
   "outputs": [
    {
     "data": {
      "text/html": [
       "<div>\n",
       "<style scoped>\n",
       "    .dataframe tbody tr th:only-of-type {\n",
       "        vertical-align: middle;\n",
       "    }\n",
       "\n",
       "    .dataframe tbody tr th {\n",
       "        vertical-align: top;\n",
       "    }\n",
       "\n",
       "    .dataframe thead th {\n",
       "        text-align: right;\n",
       "    }\n",
       "</style>\n",
       "<table border=\"1\" class=\"dataframe\">\n",
       "  <thead>\n",
       "    <tr style=\"text-align: right;\">\n",
       "      <th></th>\n",
       "      <th>PassengerId</th>\n",
       "      <th>Survived</th>\n",
       "      <th>Pclass</th>\n",
       "      <th>Name</th>\n",
       "      <th>Sex</th>\n",
       "      <th>Age</th>\n",
       "      <th>SibSp</th>\n",
       "      <th>Parch</th>\n",
       "      <th>Ticket</th>\n",
       "      <th>Fare</th>\n",
       "      <th>Cabin</th>\n",
       "      <th>Embarked</th>\n",
       "    </tr>\n",
       "  </thead>\n",
       "  <tbody>\n",
       "    <tr>\n",
       "      <th>0</th>\n",
       "      <td>1</td>\n",
       "      <td>0</td>\n",
       "      <td>3</td>\n",
       "      <td>Braund, Mr. Owen Harris</td>\n",
       "      <td>male</td>\n",
       "      <td>22.0</td>\n",
       "      <td>1</td>\n",
       "      <td>0</td>\n",
       "      <td>A/5 21171</td>\n",
       "      <td>7.2500</td>\n",
       "      <td>NaN</td>\n",
       "      <td>S</td>\n",
       "    </tr>\n",
       "    <tr>\n",
       "      <th>1</th>\n",
       "      <td>2</td>\n",
       "      <td>1</td>\n",
       "      <td>1</td>\n",
       "      <td>Cumings, Mrs. John Bradley (Florence Briggs Th...</td>\n",
       "      <td>female</td>\n",
       "      <td>38.0</td>\n",
       "      <td>1</td>\n",
       "      <td>0</td>\n",
       "      <td>PC 17599</td>\n",
       "      <td>71.2833</td>\n",
       "      <td>C85</td>\n",
       "      <td>C</td>\n",
       "    </tr>\n",
       "    <tr>\n",
       "      <th>2</th>\n",
       "      <td>3</td>\n",
       "      <td>1</td>\n",
       "      <td>3</td>\n",
       "      <td>Heikkinen, Miss. Laina</td>\n",
       "      <td>female</td>\n",
       "      <td>26.0</td>\n",
       "      <td>0</td>\n",
       "      <td>0</td>\n",
       "      <td>STON/O2. 3101282</td>\n",
       "      <td>7.9250</td>\n",
       "      <td>NaN</td>\n",
       "      <td>S</td>\n",
       "    </tr>\n",
       "    <tr>\n",
       "      <th>3</th>\n",
       "      <td>4</td>\n",
       "      <td>1</td>\n",
       "      <td>1</td>\n",
       "      <td>Futrelle, Mrs. Jacques Heath (Lily May Peel)</td>\n",
       "      <td>female</td>\n",
       "      <td>35.0</td>\n",
       "      <td>1</td>\n",
       "      <td>0</td>\n",
       "      <td>113803</td>\n",
       "      <td>53.1000</td>\n",
       "      <td>C123</td>\n",
       "      <td>S</td>\n",
       "    </tr>\n",
       "    <tr>\n",
       "      <th>4</th>\n",
       "      <td>5</td>\n",
       "      <td>0</td>\n",
       "      <td>3</td>\n",
       "      <td>Allen, Mr. William Henry</td>\n",
       "      <td>male</td>\n",
       "      <td>35.0</td>\n",
       "      <td>0</td>\n",
       "      <td>0</td>\n",
       "      <td>373450</td>\n",
       "      <td>8.0500</td>\n",
       "      <td>NaN</td>\n",
       "      <td>S</td>\n",
       "    </tr>\n",
       "  </tbody>\n",
       "</table>\n",
       "</div>"
      ],
      "text/plain": [
       "   PassengerId  Survived  Pclass  \\\n",
       "0            1         0       3   \n",
       "1            2         1       1   \n",
       "2            3         1       3   \n",
       "3            4         1       1   \n",
       "4            5         0       3   \n",
       "\n",
       "                                                Name     Sex   Age  SibSp  \\\n",
       "0                            Braund, Mr. Owen Harris    male  22.0      1   \n",
       "1  Cumings, Mrs. John Bradley (Florence Briggs Th...  female  38.0      1   \n",
       "2                             Heikkinen, Miss. Laina  female  26.0      0   \n",
       "3       Futrelle, Mrs. Jacques Heath (Lily May Peel)  female  35.0      1   \n",
       "4                           Allen, Mr. William Henry    male  35.0      0   \n",
       "\n",
       "   Parch            Ticket     Fare Cabin Embarked  \n",
       "0      0         A/5 21171   7.2500   NaN        S  \n",
       "1      0          PC 17599  71.2833   C85        C  \n",
       "2      0  STON/O2. 3101282   7.9250   NaN        S  \n",
       "3      0            113803  53.1000  C123        S  \n",
       "4      0            373450   8.0500   NaN        S  "
      ]
     },
     "execution_count": 2,
     "metadata": {},
     "output_type": "execute_result"
    }
   ],
   "source": [
    "#Load training data\n",
    "df_train = pd.read_csv('train.csv')\n",
    "df_test = pd.read_csv('train.csv')\n",
    "df = df_train.append(df_test)\n",
    "df.head()"
   ]
  },
  {
   "cell_type": "markdown",
   "metadata": {},
   "source": [
    "I always like to start my analysis with 3 steps:\n",
    "<ol>\n",
    "    <li>The describe() method;</li>\n",
    "    <li>Exploring the data types using the .dtypes attribute; and</li>\n",
    "    <li>Examining the distribution of numerical variables.</li>\n",
    "   \n",
    "</ol>"
   ]
  },
  {
   "cell_type": "code",
   "execution_count": 3,
   "metadata": {},
   "outputs": [
    {
     "data": {
      "text/html": [
       "<div>\n",
       "<style scoped>\n",
       "    .dataframe tbody tr th:only-of-type {\n",
       "        vertical-align: middle;\n",
       "    }\n",
       "\n",
       "    .dataframe tbody tr th {\n",
       "        vertical-align: top;\n",
       "    }\n",
       "\n",
       "    .dataframe thead th {\n",
       "        text-align: right;\n",
       "    }\n",
       "</style>\n",
       "<table border=\"1\" class=\"dataframe\">\n",
       "  <thead>\n",
       "    <tr style=\"text-align: right;\">\n",
       "      <th></th>\n",
       "      <th>PassengerId</th>\n",
       "      <th>Survived</th>\n",
       "      <th>Pclass</th>\n",
       "      <th>Age</th>\n",
       "      <th>SibSp</th>\n",
       "      <th>Parch</th>\n",
       "      <th>Fare</th>\n",
       "    </tr>\n",
       "  </thead>\n",
       "  <tbody>\n",
       "    <tr>\n",
       "      <th>count</th>\n",
       "      <td>1782.000000</td>\n",
       "      <td>1782.000000</td>\n",
       "      <td>1782.000000</td>\n",
       "      <td>1428.000000</td>\n",
       "      <td>1782.000000</td>\n",
       "      <td>1782.000000</td>\n",
       "      <td>1782.000000</td>\n",
       "    </tr>\n",
       "    <tr>\n",
       "      <th>mean</th>\n",
       "      <td>446.000000</td>\n",
       "      <td>0.383838</td>\n",
       "      <td>2.308642</td>\n",
       "      <td>29.699118</td>\n",
       "      <td>0.523008</td>\n",
       "      <td>0.381594</td>\n",
       "      <td>32.204208</td>\n",
       "    </tr>\n",
       "    <tr>\n",
       "      <th>std</th>\n",
       "      <td>257.281582</td>\n",
       "      <td>0.486456</td>\n",
       "      <td>0.835836</td>\n",
       "      <td>14.521407</td>\n",
       "      <td>1.102434</td>\n",
       "      <td>0.805831</td>\n",
       "      <td>49.679476</td>\n",
       "    </tr>\n",
       "    <tr>\n",
       "      <th>min</th>\n",
       "      <td>1.000000</td>\n",
       "      <td>0.000000</td>\n",
       "      <td>1.000000</td>\n",
       "      <td>0.420000</td>\n",
       "      <td>0.000000</td>\n",
       "      <td>0.000000</td>\n",
       "      <td>0.000000</td>\n",
       "    </tr>\n",
       "    <tr>\n",
       "      <th>25%</th>\n",
       "      <td>223.250000</td>\n",
       "      <td>0.000000</td>\n",
       "      <td>2.000000</td>\n",
       "      <td>20.000000</td>\n",
       "      <td>0.000000</td>\n",
       "      <td>0.000000</td>\n",
       "      <td>7.903100</td>\n",
       "    </tr>\n",
       "    <tr>\n",
       "      <th>50%</th>\n",
       "      <td>446.000000</td>\n",
       "      <td>0.000000</td>\n",
       "      <td>3.000000</td>\n",
       "      <td>28.000000</td>\n",
       "      <td>0.000000</td>\n",
       "      <td>0.000000</td>\n",
       "      <td>14.454200</td>\n",
       "    </tr>\n",
       "    <tr>\n",
       "      <th>75%</th>\n",
       "      <td>668.750000</td>\n",
       "      <td>1.000000</td>\n",
       "      <td>3.000000</td>\n",
       "      <td>38.000000</td>\n",
       "      <td>1.000000</td>\n",
       "      <td>0.000000</td>\n",
       "      <td>31.000000</td>\n",
       "    </tr>\n",
       "    <tr>\n",
       "      <th>max</th>\n",
       "      <td>891.000000</td>\n",
       "      <td>1.000000</td>\n",
       "      <td>3.000000</td>\n",
       "      <td>80.000000</td>\n",
       "      <td>8.000000</td>\n",
       "      <td>6.000000</td>\n",
       "      <td>512.329200</td>\n",
       "    </tr>\n",
       "  </tbody>\n",
       "</table>\n",
       "</div>"
      ],
      "text/plain": [
       "       PassengerId     Survived       Pclass          Age        SibSp  \\\n",
       "count  1782.000000  1782.000000  1782.000000  1428.000000  1782.000000   \n",
       "mean    446.000000     0.383838     2.308642    29.699118     0.523008   \n",
       "std     257.281582     0.486456     0.835836    14.521407     1.102434   \n",
       "min       1.000000     0.000000     1.000000     0.420000     0.000000   \n",
       "25%     223.250000     0.000000     2.000000    20.000000     0.000000   \n",
       "50%     446.000000     0.000000     3.000000    28.000000     0.000000   \n",
       "75%     668.750000     1.000000     3.000000    38.000000     1.000000   \n",
       "max     891.000000     1.000000     3.000000    80.000000     8.000000   \n",
       "\n",
       "             Parch         Fare  \n",
       "count  1782.000000  1782.000000  \n",
       "mean      0.381594    32.204208  \n",
       "std       0.805831    49.679476  \n",
       "min       0.000000     0.000000  \n",
       "25%       0.000000     7.903100  \n",
       "50%       0.000000    14.454200  \n",
       "75%       0.000000    31.000000  \n",
       "max       6.000000   512.329200  "
      ]
     },
     "execution_count": 3,
     "metadata": {},
     "output_type": "execute_result"
    }
   ],
   "source": [
    "df.describe()"
   ]
  },
  {
   "cell_type": "markdown",
   "metadata": {},
   "source": [
    "Let's start a tally of issues we'll need to address:\n",
    "<ul>\n",
    "    <li>\n",
    "        <b>Issue 1:</b> Resolve NaN values in 'Age' column.\n",
    "    </li>"
   ]
  },
  {
   "cell_type": "code",
   "execution_count": 4,
   "metadata": {},
   "outputs": [
    {
     "data": {
      "text/plain": [
       "array([[<AxesSubplot:title={'center':'PassengerId'}>,\n",
       "        <AxesSubplot:title={'center':'Survived'}>,\n",
       "        <AxesSubplot:title={'center':'Pclass'}>],\n",
       "       [<AxesSubplot:title={'center':'Age'}>,\n",
       "        <AxesSubplot:title={'center':'SibSp'}>,\n",
       "        <AxesSubplot:title={'center':'Parch'}>],\n",
       "       [<AxesSubplot:title={'center':'Fare'}>, <AxesSubplot:>,\n",
       "        <AxesSubplot:>]], dtype=object)"
      ]
     },
     "execution_count": 4,
     "metadata": {},
     "output_type": "execute_result"
    },
    {
     "data": {
      "image/png": "[encoded data removed]",
      "text/plain": [
       "<Figure size 1440x432 with 9 Axes>"
      ]
     },
     "metadata": {},
     "output_type": "display_data"
    }
   ],
   "source": [
    "df.hist(figsize=(20,6))"
   ]
  },
  {
   "cell_type": "markdown",
   "metadata": {},
   "source": [
    "Let's add one more item to the tally:\n",
    "<ul>\n",
    "    <li><b>Issue 1:</b> Resolve NaN values in 'Age' column.</li>\n",
    "    <li><b>Issue 2:</b> Address outliers in Fare column.</li>"
   ]
  },
  {
   "cell_type": "code",
   "execution_count": 5,
   "metadata": {},
   "outputs": [
    {
     "data": {
      "text/plain": [
       "PassengerId      int64\n",
       "Survived         int64\n",
       "Pclass           int64\n",
       "Name            object\n",
       "Sex             object\n",
       "Age            float64\n",
       "SibSp            int64\n",
       "Parch            int64\n",
       "Ticket          object\n",
       "Fare           float64\n",
       "Cabin           object\n",
       "Embarked        object\n",
       "dtype: object"
      ]
     },
     "execution_count": 5,
     "metadata": {},
     "output_type": "execute_result"
    }
   ],
   "source": [
    "df.dtypes"
   ]
  },
  {
   "cell_type": "markdown",
   "metadata": {},
   "source": [
    "And one more item:\n",
    "<ul>\n",
    "    <li><b>Issue 1:</b> Resolve NaN values in 'Age' column.</li>\n",
    "    <li><b>Issue 2:</b> Address outliers in Fare column.</li>\n",
    "    <li><b>Issue 3:</b> Assign categorical variables to Sex and Embarked columns.</li>\n",
    "\n",
    "Let's get to cleaning up our data!"
   ]
  },
  {
   "cell_type": "code",
   "execution_count": 6,
   "metadata": {},
   "outputs": [
    {
     "data": {
      "text/plain": [
       "258    512.3292\n",
       "679    512.3292\n",
       "737    512.3292\n",
       "258    512.3292\n",
       "737    512.3292\n",
       "         ...   \n",
       "815      0.0000\n",
       "806      0.0000\n",
       "597      0.0000\n",
       "732      0.0000\n",
       "271      0.0000\n",
       "Name: Fare, Length: 1782, dtype: float64"
      ]
     },
     "execution_count": 6,
     "metadata": {},
     "output_type": "execute_result"
    }
   ],
   "source": [
    "df.Fare.sort_values(ascending=False)"
   ]
  },
  {
   "cell_type": "code",
   "execution_count": 7,
   "metadata": {},
   "outputs": [
    {
     "data": {
      "text/plain": [
       "151.55"
      ]
     },
     "execution_count": 7,
     "metadata": {},
     "output_type": "execute_result"
    }
   ],
   "source": [
    "df.Fare.quantile(.97)"
   ]
  },
  {
   "cell_type": "code",
   "execution_count": 8,
   "metadata": {},
   "outputs": [],
   "source": [
    "#Drop descriptive features\n",
    "df = df.drop(['Name', 'Ticket','Cabin','PassengerId'], axis=1)"
   ]
  },
  {
   "cell_type": "code",
   "execution_count": 9,
   "metadata": {},
   "outputs": [],
   "source": [
    "#Impute missing Age values with mean\n",
    "df.Age = df.Age.fillna(df.Age.mean())"
   ]
  },
  {
   "cell_type": "code",
   "execution_count": 10,
   "metadata": {},
   "outputs": [],
   "source": [
    "#Perform listwise deletion of top 3% of fares paid\n",
    "df = df[df.Fare < df.Fare.quantile(.97)]"
   ]
  },
  {
   "cell_type": "code",
   "execution_count": 11,
   "metadata": {},
   "outputs": [],
   "source": [
    "#Assign categorical variables\n",
    "df.Sex = df.Sex.astype('category')\n",
    "df.Embarked = df.Embarked.astype('category')"
   ]
  },
  {
   "cell_type": "markdown",
   "metadata": {},
   "source": []
  },
  {
   "cell_type": "code",
   "execution_count": 12,
   "metadata": {},
   "outputs": [
    {
     "data": {
      "text/html": [
       "<div>\n",
       "<style scoped>\n",
       "    .dataframe tbody tr th:only-of-type {\n",
       "        vertical-align: middle;\n",
       "    }\n",
       "\n",
       "    .dataframe tbody tr th {\n",
       "        vertical-align: top;\n",
       "    }\n",
       "\n",
       "    .dataframe thead th {\n",
       "        text-align: right;\n",
       "    }\n",
       "</style>\n",
       "<table border=\"1\" class=\"dataframe\">\n",
       "  <thead>\n",
       "    <tr style=\"text-align: right;\">\n",
       "      <th></th>\n",
       "      <th>Survived</th>\n",
       "      <th>Pclass</th>\n",
       "      <th>Age</th>\n",
       "      <th>SibSp</th>\n",
       "      <th>Parch</th>\n",
       "      <th>Fare</th>\n",
       "    </tr>\n",
       "  </thead>\n",
       "  <tbody>\n",
       "    <tr>\n",
       "      <th>count</th>\n",
       "      <td>1724.000000</td>\n",
       "      <td>1724.000000</td>\n",
       "      <td>1724.000000</td>\n",
       "      <td>1724.000000</td>\n",
       "      <td>1724.000000</td>\n",
       "      <td>1724.000000</td>\n",
       "    </tr>\n",
       "    <tr>\n",
       "      <th>mean</th>\n",
       "      <td>0.373550</td>\n",
       "      <td>2.352668</td>\n",
       "      <td>29.674705</td>\n",
       "      <td>0.518561</td>\n",
       "      <td>0.357309</td>\n",
       "      <td>25.187306</td>\n",
       "    </tr>\n",
       "    <tr>\n",
       "      <th>std</th>\n",
       "      <td>0.483887</td>\n",
       "      <td>0.813973</td>\n",
       "      <td>12.959523</td>\n",
       "      <td>1.105677</td>\n",
       "      <td>0.787267</td>\n",
       "      <td>26.364434</td>\n",
       "    </tr>\n",
       "    <tr>\n",
       "      <th>min</th>\n",
       "      <td>0.000000</td>\n",
       "      <td>1.000000</td>\n",
       "      <td>0.420000</td>\n",
       "      <td>0.000000</td>\n",
       "      <td>0.000000</td>\n",
       "      <td>0.000000</td>\n",
       "    </tr>\n",
       "    <tr>\n",
       "      <th>25%</th>\n",
       "      <td>0.000000</td>\n",
       "      <td>2.000000</td>\n",
       "      <td>22.000000</td>\n",
       "      <td>0.000000</td>\n",
       "      <td>0.000000</td>\n",
       "      <td>7.895800</td>\n",
       "    </tr>\n",
       "    <tr>\n",
       "      <th>50%</th>\n",
       "      <td>0.000000</td>\n",
       "      <td>3.000000</td>\n",
       "      <td>29.699118</td>\n",
       "      <td>0.000000</td>\n",
       "      <td>0.000000</td>\n",
       "      <td>13.500000</td>\n",
       "    </tr>\n",
       "    <tr>\n",
       "      <th>75%</th>\n",
       "      <td>1.000000</td>\n",
       "      <td>3.000000</td>\n",
       "      <td>35.000000</td>\n",
       "      <td>1.000000</td>\n",
       "      <td>0.000000</td>\n",
       "      <td>29.125000</td>\n",
       "    </tr>\n",
       "    <tr>\n",
       "      <th>max</th>\n",
       "      <td>1.000000</td>\n",
       "      <td>3.000000</td>\n",
       "      <td>80.000000</td>\n",
       "      <td>8.000000</td>\n",
       "      <td>6.000000</td>\n",
       "      <td>146.520800</td>\n",
       "    </tr>\n",
       "  </tbody>\n",
       "</table>\n",
       "</div>"
      ],
      "text/plain": [
       "          Survived       Pclass          Age        SibSp        Parch  \\\n",
       "count  1724.000000  1724.000000  1724.000000  1724.000000  1724.000000   \n",
       "mean      0.373550     2.352668    29.674705     0.518561     0.357309   \n",
       "std       0.483887     0.813973    12.959523     1.105677     0.787267   \n",
       "min       0.000000     1.000000     0.420000     0.000000     0.000000   \n",
       "25%       0.000000     2.000000    22.000000     0.000000     0.000000   \n",
       "50%       0.000000     3.000000    29.699118     0.000000     0.000000   \n",
       "75%       1.000000     3.000000    35.000000     1.000000     0.000000   \n",
       "max       1.000000     3.000000    80.000000     8.000000     6.000000   \n",
       "\n",
       "              Fare  \n",
       "count  1724.000000  \n",
       "mean     25.187306  \n",
       "std      26.364434  \n",
       "min       0.000000  \n",
       "25%       7.895800  \n",
       "50%      13.500000  \n",
       "75%      29.125000  \n",
       "max     146.520800  "
      ]
     },
     "execution_count": 12,
     "metadata": {},
     "output_type": "execute_result"
    }
   ],
   "source": [
    "df.describe()"
   ]
  },
  {
   "cell_type": "code",
   "execution_count": 13,
   "metadata": {},
   "outputs": [
    {
     "data": {
      "text/plain": [
       "array([[<AxesSubplot:title={'center':'Survived'}>,\n",
       "        <AxesSubplot:title={'center':'Pclass'}>],\n",
       "       [<AxesSubplot:title={'center':'Age'}>,\n",
       "        <AxesSubplot:title={'center':'SibSp'}>],\n",
       "       [<AxesSubplot:title={'center':'Parch'}>,\n",
       "        <AxesSubplot:title={'center':'Fare'}>]], dtype=object)"
      ]
     },
     "execution_count": 13,
     "metadata": {},
     "output_type": "execute_result"
    },
    {
     "data": {
      "image/png": "[encoded data removed]",
      "text/plain": [
       "<Figure size 1440x432 with 6 Axes>"
      ]
     },
     "metadata": {},
     "output_type": "display_data"
    }
   ],
   "source": [
    "df.hist(figsize=(20,6))"
   ]
  },
  {
   "cell_type": "markdown",
   "metadata": {},
   "source": [
    "What's this cleaner dataset tell us?\n",
    "<ol>\n",
    "    <li>We have a bunch of single travelers.</li>\n",
    "    <li>Those traveling as a family vary greatly in size.</li>\n",
    "    <li>The distribution of fares generally ranges from 0-125.</li>\n",
    "    <li>The age of traveler is an approximately normal distribution.</li>\n",
    "    \n",
    "</ol>\n",
    "Let's engineer the Parch and SibSp columns to look at those traveling alone versus those traveling as a group, rather than providing a literal count of every child, spouse, or parent."
   ]
  },
  {
   "cell_type": "code",
   "execution_count": 14,
   "metadata": {},
   "outputs": [],
   "source": [
    "df.Parch = df.Parch.apply(lambda x: 1 if x > 0 else 0)"
   ]
  },
  {
   "cell_type": "code",
   "execution_count": 15,
   "metadata": {},
   "outputs": [],
   "source": [
    "df.SibSp = df.SibSp.apply(lambda x: 1 if x > 0 else 0)"
   ]
  },
  {
   "cell_type": "code",
   "execution_count": 16,
   "metadata": {},
   "outputs": [],
   "source": [
    "df = pd.get_dummies(df)"
   ]
  },
  {
   "cell_type": "code",
   "execution_count": 17,
   "metadata": {},
   "outputs": [
    {
     "data": {
      "text/html": [
       "<div>\n",
       "<style scoped>\n",
       "    .dataframe tbody tr th:only-of-type {\n",
       "        vertical-align: middle;\n",
       "    }\n",
       "\n",
       "    .dataframe tbody tr th {\n",
       "        vertical-align: top;\n",
       "    }\n",
       "\n",
       "    .dataframe thead th {\n",
       "        text-align: right;\n",
       "    }\n",
       "</style>\n",
       "<table border=\"1\" class=\"dataframe\">\n",
       "  <thead>\n",
       "    <tr style=\"text-align: right;\">\n",
       "      <th></th>\n",
       "      <th>Survived</th>\n",
       "      <th>Pclass</th>\n",
       "      <th>Age</th>\n",
       "      <th>SibSp</th>\n",
       "      <th>Parch</th>\n",
       "      <th>Fare</th>\n",
       "      <th>Sex_female</th>\n",
       "      <th>Sex_male</th>\n",
       "      <th>Embarked_C</th>\n",
       "      <th>Embarked_Q</th>\n",
       "      <th>Embarked_S</th>\n",
       "    </tr>\n",
       "  </thead>\n",
       "  <tbody>\n",
       "    <tr>\n",
       "      <th>Survived</th>\n",
       "      <td>1.000000</td>\n",
       "      <td>-0.325826</td>\n",
       "      <td>-0.076845</td>\n",
       "      <td>0.120721</td>\n",
       "      <td>0.140869</td>\n",
       "      <td>0.304746</td>\n",
       "      <td>0.534782</td>\n",
       "      <td>-0.534782</td>\n",
       "      <td>0.160248</td>\n",
       "      <td>0.010398</td>\n",
       "      <td>-0.151952</td>\n",
       "    </tr>\n",
       "    <tr>\n",
       "      <th>Pclass</th>\n",
       "      <td>-0.325826</td>\n",
       "      <td>1.000000</td>\n",
       "      <td>-0.349614</td>\n",
       "      <td>-0.073396</td>\n",
       "      <td>0.025884</td>\n",
       "      <td>-0.656498</td>\n",
       "      <td>-0.105279</td>\n",
       "      <td>0.105279</td>\n",
       "      <td>-0.229645</td>\n",
       "      <td>0.214156</td>\n",
       "      <td>0.070038</td>\n",
       "    </tr>\n",
       "    <tr>\n",
       "      <th>Age</th>\n",
       "      <td>-0.076845</td>\n",
       "      <td>-0.349614</td>\n",
       "      <td>1.000000</td>\n",
       "      <td>-0.139989</td>\n",
       "      <td>-0.275875</td>\n",
       "      <td>0.145432</td>\n",
       "      <td>-0.089265</td>\n",
       "      <td>0.089265</td>\n",
       "      <td>0.030592</td>\n",
       "      <td>-0.013561</td>\n",
       "      <td>-0.025937</td>\n",
       "    </tr>\n",
       "    <tr>\n",
       "      <th>SibSp</th>\n",
       "      <td>0.120721</td>\n",
       "      <td>-0.073396</td>\n",
       "      <td>-0.139989</td>\n",
       "      <td>1.000000</td>\n",
       "      <td>0.423101</td>\n",
       "      <td>0.359753</td>\n",
       "      <td>0.204740</td>\n",
       "      <td>-0.204740</td>\n",
       "      <td>0.043928</td>\n",
       "      <td>-0.055112</td>\n",
       "      <td>0.000858</td>\n",
       "    </tr>\n",
       "    <tr>\n",
       "      <th>Parch</th>\n",
       "      <td>0.140869</td>\n",
       "      <td>0.025884</td>\n",
       "      <td>-0.275875</td>\n",
       "      <td>0.423101</td>\n",
       "      <td>1.000000</td>\n",
       "      <td>0.226617</td>\n",
       "      <td>0.243608</td>\n",
       "      <td>-0.243608</td>\n",
       "      <td>0.028074</td>\n",
       "      <td>-0.090865</td>\n",
       "      <td>0.036734</td>\n",
       "    </tr>\n",
       "    <tr>\n",
       "      <th>Fare</th>\n",
       "      <td>0.304746</td>\n",
       "      <td>-0.656498</td>\n",
       "      <td>0.145432</td>\n",
       "      <td>0.359753</td>\n",
       "      <td>0.226617</td>\n",
       "      <td>1.000000</td>\n",
       "      <td>0.215031</td>\n",
       "      <td>-0.215031</td>\n",
       "      <td>0.281778</td>\n",
       "      <td>-0.141539</td>\n",
       "      <td>-0.163796</td>\n",
       "    </tr>\n",
       "    <tr>\n",
       "      <th>Sex_female</th>\n",
       "      <td>0.534782</td>\n",
       "      <td>-0.105279</td>\n",
       "      <td>-0.089265</td>\n",
       "      <td>0.204740</td>\n",
       "      <td>0.243608</td>\n",
       "      <td>0.215031</td>\n",
       "      <td>1.000000</td>\n",
       "      <td>-1.000000</td>\n",
       "      <td>0.080102</td>\n",
       "      <td>0.082715</td>\n",
       "      <td>-0.129455</td>\n",
       "    </tr>\n",
       "    <tr>\n",
       "      <th>Sex_male</th>\n",
       "      <td>-0.534782</td>\n",
       "      <td>0.105279</td>\n",
       "      <td>0.089265</td>\n",
       "      <td>-0.204740</td>\n",
       "      <td>-0.243608</td>\n",
       "      <td>-0.215031</td>\n",
       "      <td>-1.000000</td>\n",
       "      <td>1.000000</td>\n",
       "      <td>-0.080102</td>\n",
       "      <td>-0.082715</td>\n",
       "      <td>0.129455</td>\n",
       "    </tr>\n",
       "    <tr>\n",
       "      <th>Embarked_C</th>\n",
       "      <td>0.160248</td>\n",
       "      <td>-0.229645</td>\n",
       "      <td>0.030592</td>\n",
       "      <td>0.043928</td>\n",
       "      <td>0.028074</td>\n",
       "      <td>0.281778</td>\n",
       "      <td>0.080102</td>\n",
       "      <td>-0.080102</td>\n",
       "      <td>1.000000</td>\n",
       "      <td>-0.147221</td>\n",
       "      <td>-0.767821</td>\n",
       "    </tr>\n",
       "    <tr>\n",
       "      <th>Embarked_Q</th>\n",
       "      <td>0.010398</td>\n",
       "      <td>0.214156</td>\n",
       "      <td>-0.013561</td>\n",
       "      <td>-0.055112</td>\n",
       "      <td>-0.090865</td>\n",
       "      <td>-0.141539</td>\n",
       "      <td>0.082715</td>\n",
       "      <td>-0.082715</td>\n",
       "      <td>-0.147221</td>\n",
       "      <td>1.000000</td>\n",
       "      <td>-0.511576</td>\n",
       "    </tr>\n",
       "    <tr>\n",
       "      <th>Embarked_S</th>\n",
       "      <td>-0.151952</td>\n",
       "      <td>0.070038</td>\n",
       "      <td>-0.025937</td>\n",
       "      <td>0.000858</td>\n",
       "      <td>0.036734</td>\n",
       "      <td>-0.163796</td>\n",
       "      <td>-0.129455</td>\n",
       "      <td>0.129455</td>\n",
       "      <td>-0.767821</td>\n",
       "      <td>-0.511576</td>\n",
       "      <td>1.000000</td>\n",
       "    </tr>\n",
       "  </tbody>\n",
       "</table>\n",
       "</div>"
      ],
      "text/plain": [
       "            Survived    Pclass       Age     SibSp     Parch      Fare  \\\n",
       "Survived    1.000000 -0.325826 -0.076845  0.120721  0.140869  0.304746   \n",
       "Pclass     -0.325826  1.000000 -0.349614 -0.073396  0.025884 -0.656498   \n",
       "Age        -0.076845 -0.349614  1.000000 -0.139989 -0.275875  0.145432   \n",
       "SibSp       0.120721 -0.073396 -0.139989  1.000000  0.423101  0.359753   \n",
       "Parch       0.140869  0.025884 -0.275875  0.423101  1.000000  0.226617   \n",
       "Fare        0.304746 -0.656498  0.145432  0.359753  0.226617  1.000000   \n",
       "Sex_female  0.534782 -0.105279 -0.089265  0.204740  0.243608  0.215031   \n",
       "Sex_male   -0.534782  0.105279  0.089265 -0.204740 -0.243608 -0.215031   \n",
       "Embarked_C  0.160248 -0.229645  0.030592  0.043928  0.028074  0.281778   \n",
       "Embarked_Q  0.010398  0.214156 -0.013561 -0.055112 -0.090865 -0.141539   \n",
       "Embarked_S -0.151952  0.070038 -0.025937  0.000858  0.036734 -0.163796   \n",
       "\n",
       "            Sex_female  Sex_male  Embarked_C  Embarked_Q  Embarked_S  \n",
       "Survived      0.534782 -0.534782    0.160248    0.010398   -0.151952  \n",
       "Pclass       -0.105279  0.105279   -0.229645    0.214156    0.070038  \n",
       "Age          -0.089265  0.089265    0.030592   -0.013561   -0.025937  \n",
       "SibSp         0.204740 -0.204740    0.043928   -0.055112    0.000858  \n",
       "Parch         0.243608 -0.243608    0.028074   -0.090865    0.036734  \n",
       "Fare          0.215031 -0.215031    0.281778   -0.141539   -0.163796  \n",
       "Sex_female    1.000000 -1.000000    0.080102    0.082715   -0.129455  \n",
       "Sex_male     -1.000000  1.000000   -0.080102   -0.082715    0.129455  \n",
       "Embarked_C    0.080102 -0.080102    1.000000   -0.147221   -0.767821  \n",
       "Embarked_Q    0.082715 -0.082715   -0.147221    1.000000   -0.511576  \n",
       "Embarked_S   -0.129455  0.129455   -0.767821   -0.511576    1.000000  "
      ]
     },
     "execution_count": 17,
     "metadata": {},
     "output_type": "execute_result"
    }
   ],
   "source": [
    "df.corr()"
   ]
  },
  {
   "cell_type": "markdown",
   "metadata": {},
   "source": [
    "### Findings ###\n",
    "\n",
    "This correlation matrix shows how much gender, traveling class (note that high class numbers represent more expensive tickets), and price influenced one's likelihood of surviving the <i>Titanic</i> shipwreck. There's also an interesting relationship with the Cherbourg port and families traveling aboard the <i>Titanic</i>. If the data about the median income or demographics around each port were available, or other information that influenced what types of customers boarded at each port, we might have an explanation for why departure point significantly affected one's odds of survival."
   ]
  },
  {
   "cell_type": "markdown",
   "metadata": {},
   "source": [
    "### Quick Model ###\n",
    "\n",
    "We may as well create a quick logistic regression model to see if we can reasonably predict one's likelihood of survival. Perhaps just as importantly, "
   ]
  },
  {
   "cell_type": "code",
   "execution_count": 18,
   "metadata": {},
   "outputs": [],
   "source": [
    "X = df.drop('Survived', axis=1)\n",
    "y = df.Survived\n",
    "from sklearn.model_selection import train_test_split\n",
    "X_train, X_test, y_train, y_test = train_test_split(X, y, test_size=0.33, random_state=42)"
   ]
  },
  {
   "cell_type": "code",
   "execution_count": 19,
   "metadata": {},
   "outputs": [],
   "source": [
    "from sklearn.preprocessing import StandardScaler\n",
    "scaler = StandardScaler()\n",
    "X_train_scaled = scaler.fit_transform(X_train)\n",
    "X_test_scaled = scaler.transform(X_test)"
   ]
  },
  {
   "cell_type": "code",
   "execution_count": 20,
   "metadata": {},
   "outputs": [],
   "source": [
    "from sklearn.linear_model import LogisticRegression\n",
    "clf = LogisticRegression(random_state=0).fit(X_train_scaled, y_train)"
   ]
  },
  {
   "cell_type": "code",
   "execution_count": 21,
   "metadata": {},
   "outputs": [
    {
     "data": {
      "text/plain": [
       "0.7926186291739895"
      ]
     },
     "execution_count": 21,
     "metadata": {},
     "output_type": "execute_result"
    }
   ],
   "source": [
    "clf.score(X_test_scaled,y_test)"
   ]
  },
  {
   "cell_type": "code",
   "execution_count": 32,
   "metadata": {},
   "outputs": [
    {
     "name": "stdout",
     "output_type": "stream",
     "text": [
      "True Negative: 309 False Positive: 52 False Negative: 66 True Positive: 142\n"
     ]
    }
   ],
   "source": [
    "from sklearn.metrics import confusion_matrix\n",
    "y_pred = clf.predict(X_test_scaled)\n",
    "tn, fp, fn, tp = confusion_matrix(y_test, y_pred).ravel()\n",
    "print('True Negative: ' + str(tn) + ' False Positive: ' + str(fp) + ' False Negative: ' + str(fn) + ' True Positive: ' + str(tp))"
   ]
  },
  {
   "cell_type": "code",
   "execution_count": 34,
   "metadata": {},
   "outputs": [
    {
     "data": {
      "text/html": [
       "<div>\n",
       "<style scoped>\n",
       "    .dataframe tbody tr th:only-of-type {\n",
       "        vertical-align: middle;\n",
       "    }\n",
       "\n",
       "    .dataframe tbody tr th {\n",
       "        vertical-align: top;\n",
       "    }\n",
       "\n",
       "    .dataframe thead th {\n",
       "        text-align: right;\n",
       "    }\n",
       "</style>\n",
       "<table border=\"1\" class=\"dataframe\">\n",
       "  <thead>\n",
       "    <tr style=\"text-align: right;\">\n",
       "      <th></th>\n",
       "      <th>Coefficient</th>\n",
       "    </tr>\n",
       "  </thead>\n",
       "  <tbody>\n",
       "    <tr>\n",
       "      <th>Sex_female</th>\n",
       "      <td>0.625738</td>\n",
       "    </tr>\n",
       "    <tr>\n",
       "      <th>Parch</th>\n",
       "      <td>0.017034</td>\n",
       "    </tr>\n",
       "    <tr>\n",
       "      <th>Fare</th>\n",
       "      <td>-0.003067</td>\n",
       "    </tr>\n",
       "    <tr>\n",
       "      <th>SibSp</th>\n",
       "      <td>-0.040098</td>\n",
       "    </tr>\n",
       "    <tr>\n",
       "      <th>Embarked_C</th>\n",
       "      <td>-0.083520</td>\n",
       "    </tr>\n",
       "    <tr>\n",
       "      <th>Embarked_Q</th>\n",
       "      <td>-0.090308</td>\n",
       "    </tr>\n",
       "    <tr>\n",
       "      <th>Embarked_S</th>\n",
       "      <td>-0.363164</td>\n",
       "    </tr>\n",
       "    <tr>\n",
       "      <th>Age</th>\n",
       "      <td>-0.549834</td>\n",
       "    </tr>\n",
       "    <tr>\n",
       "      <th>Sex_male</th>\n",
       "      <td>-0.625738</td>\n",
       "    </tr>\n",
       "    <tr>\n",
       "      <th>Pclass</th>\n",
       "      <td>-0.981560</td>\n",
       "    </tr>\n",
       "  </tbody>\n",
       "</table>\n",
       "</div>"
      ],
      "text/plain": [
       "            Coefficient\n",
       "Sex_female     0.625738\n",
       "Parch          0.017034\n",
       "Fare          -0.003067\n",
       "SibSp         -0.040098\n",
       "Embarked_C    -0.083520\n",
       "Embarked_Q    -0.090308\n",
       "Embarked_S    -0.363164\n",
       "Age           -0.549834\n",
       "Sex_male      -0.625738\n",
       "Pclass        -0.981560"
      ]
     },
     "execution_count": 34,
     "metadata": {},
     "output_type": "execute_result"
    }
   ],
   "source": [
    "features = pd.DataFrame(clf.coef_, columns=list(df.columns)[1:]).transpose()\n",
    "features = features.rename(columns={0:'Coefficient'}).sort_values(by='Coefficient', ascending=False)\n",
    "features"
   ]
  },
  {
   "cell_type": "code",
   "execution_count": null,
   "metadata": {},
   "outputs": [],
   "source": []
  }
 ],
 "metadata": {
  "kernelspec": {
   "display_name": "Python 3",
   "language": "python",
   "name": "python3"
  },
  "language_info": {
   "codemirror_mode": {
    "name": "ipython",
    "version": 3
   },
   "file_extension": ".py",
   "mimetype": "text/x-python",
   "name": "python",
   "nbconvert_exporter": "python",
   "pygments_lexer": "ipython3",
   "version": "3.7.4"
  }
 },
 "nbformat": 4,
 "nbformat_minor": 4
}
